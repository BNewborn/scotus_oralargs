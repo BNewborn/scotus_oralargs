{
 "cells": [
  {
   "cell_type": "code",
   "execution_count": null,
   "metadata": {
    "ExecuteTime": {
     "end_time": "2018-07-02T17:08:17.609621Z",
     "start_time": "2018-07-02T17:08:17.605306Z"
    }
   },
   "outputs": [],
   "source": [
    "import pandas as pd\n",
    "import numpy as np\n",
    "import requests\n",
    "\n",
    "from pymongo import MongoClient"
   ]
  },
  {
   "cell_type": "code",
   "execution_count": null,
   "metadata": {},
   "outputs": [],
   "source": [
    "client = MongoClient()\n",
    "db = client.scotus_db\n",
    "\n",
    "db.collection_names()\n",
    "col = db.scotus"
   ]
  },
  {
   "cell_type": "code",
   "execution_count": null,
   "metadata": {},
   "outputs": [],
   "source": [
    "for year in range(2017,2018):\n",
    "    case_year = cases_total[year]\n",
    "\n",
    "    for case in case_year:\n",
    "\n",
    "        #grab voting results\n",
    "        majority_list, minority_list,other_list = oyez_api.voting_decisions(case)\n",
    "        #full_oral_page is new JSON - detailed oral for case\n",
    "        \n",
    "        if oyez_api.get_oral_href(case) is None:\n",
    "            print(f\"Case: {case['name']} has no oral arguments\")\n",
    "        else:\n",
    "            full_oral_page = oyez_api.get_oral_href(case)\n",
    "            for section in full_oral_page:\n",
    "                for turns in section['turns']:\n",
    "                    for text_block in turns['text_blocks']:\n",
    "\n",
    "                        #Set \"role\"\n",
    "                        if turns['speaker'] is None:\n",
    "                            role = \"other_speaker\"\n",
    "                            speaker = \"other_speaker\"\n",
    "                            identifier = \"other_speaker\"\n",
    "                        elif turns['speaker']['roles'] is None:\n",
    "                            role = \"other_speaker\"\n",
    "                            speaker = \"\"\n",
    "                            identifier = \"\"\n",
    "                        elif not turns['speaker']['roles']:\n",
    "                            print((turns['speaker']['roles']))\n",
    "                            role = \"none\"\n",
    "                            speaker = turns['speaker']['name']\n",
    "                            identifier = turns['speaker']['identifier']\n",
    "                        else:\n",
    "                            print((turns['speaker']['roles']))\n",
    "                            role = turns['speaker']['roles'][0]['type']\n",
    "                            speaker = turns['speaker']['name']\n",
    "                            identifier = turns['speaker']['identifier']\n",
    "\n",
    "                        #Set \"voting_result\"\n",
    "                        voting_result = oyez_api.justice_voting(majority_list,minority_list,other_list,speaker)\n",
    "\n",
    "                        #Create entry dict\n",
    "                        entry={}\n",
    "                        entry={\n",
    "                            'case':case['ID']\n",
    "                            ,'docket_num':case['docket_number']\n",
    "                            ,'term':case['term']\n",
    "                            ,'case_name':case['name']\n",
    "                            ,'speaker':speaker\n",
    "                            ,'role': role\n",
    "                            ,'identifier': identifier\n",
    "                            ,'voting_result': voting_result\n",
    "                            ,'text':text_block['text']\n",
    "                            ,'start':text_block['start']\n",
    "                            ,'stop':text_block['stop']\n",
    "                                }\n",
    "                        #insert each dictionary into MongoDB\n",
    "                        scotus.insert_one(entry)"
   ]
  }
 ],
 "metadata": {
  "kernelspec": {
   "display_name": "Python 3",
   "language": "python",
   "name": "python3"
  },
  "language_info": {
   "codemirror_mode": {
    "name": "ipython",
    "version": 3
   },
   "file_extension": ".py",
   "mimetype": "text/x-python",
   "name": "python",
   "nbconvert_exporter": "python",
   "pygments_lexer": "ipython3",
   "version": "3.6.4"
  }
 },
 "nbformat": 4,
 "nbformat_minor": 2
}

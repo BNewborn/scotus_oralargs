{
 "cells": [
  {
   "cell_type": "code",
   "execution_count": null,
   "metadata": {},
   "outputs": [],
   "source": [
    "import requests\n",
    "import oyez_api\n",
    "import numpy as np\n",
    "import pprint\n",
    "import pickle\n",
    "\n",
    "from pymongo import MongoClient\n",
    "client = MongoClient()"
   ]
  },
  {
   "cell_type": "code",
   "execution_count": null,
   "metadata": {},
   "outputs": [],
   "source": [
    "#Cases HREF: https://api.oyez.org/cases?filter=term:2017&per_page=100\n",
    "#Saving 1 Oral HREF for reference: #https://api.oyez.org/case_media/oral_argument_audio/24307\n",
    "\n",
    "#cases_total is dict of lists of all URLS for cases between 2000 and 2018. \n",
    "\n",
    "cases_total={}\n",
    "for year in range(2000,2018):\n",
    "    cases_year = []\n",
    "    cases_year = oyez_api.cases(year)\n",
    "    cases_total[year]=cases_year\n",
    "\n",
    "cases_total[np.random.randint(2000,2018)][6] #random case to check on data"
   ]
  },
  {
   "cell_type": "markdown",
   "metadata": {},
   "source": [
    "Where Am I inserting this data? scotus collection within scotus_db in MongoDB.  \n",
    "\n",
    "Unstructured database will allow flexible data addition"
   ]
  },
  {
   "cell_type": "code",
   "execution_count": null,
   "metadata": {},
   "outputs": [],
   "source": [
    "scotus_db = client.scotus_db\n",
    "scotus = scotus_db.scotus_collection\n",
    "\n",
    "for year in range(2000,2018):\n",
    "\n",
    "    case_year = cases_total[year]\n",
    "    print(f\"Year: {year}\")\n",
    "    for case in case_year:\n",
    "\n",
    "        #grab voting results\n",
    "        majority_list, minority_list,other_list = oyez_api.voting_decisions(case)\n",
    "\n",
    "        if oyez_api.get_oral_href(case) is None:\n",
    "            print(f\"Case: {case['name']} has no oral arguments\")\n",
    "        else:\n",
    "            full_oral_page = oyez_api.get_oral_href(case)\n",
    "            for section in full_oral_page:\n",
    "                for turns in section['turns']:\n",
    "                    for text_block in turns['text_blocks']:\n",
    "#                         print(text_block)\n",
    "\n",
    "                        #Set \"role\"\n",
    "                        if turns['speaker'] is None:\n",
    "                            role = \"other_speaker\"\n",
    "                            speaker = \"other_speaker\"\n",
    "                            identifier = \"other_speaker\"\n",
    "                        elif turns['speaker']['roles'] is None:\n",
    "                            role = \"other_speaker\"\n",
    "                            speaker = \"\"\n",
    "                            identifier = \"\"\n",
    "                        elif not turns['speaker']['roles']:\n",
    "\n",
    "                            role = \"none\"\n",
    "                            speaker = turns['speaker']['name']\n",
    "                            identifier = turns['speaker']['identifier']\n",
    "                        else:\n",
    "\n",
    "                            role = turns['speaker']['roles'][0]['type']\n",
    "                            speaker = turns['speaker']['name']\n",
    "                            identifier = turns['speaker']['identifier']\n",
    "\n",
    "                        #Set \"voting_result\"\n",
    "                        voting_result = oyez_api.justice_voting(majority_list,minority_list,other_list,speaker)\n",
    "\n",
    "                        #Create entry dict\n",
    "                        #Enter dictionary into scotus MongoDB\n",
    "                        entry={}\n",
    "                        entry={\n",
    "                            'case':case['ID']\n",
    "                            ,'docket_num':case['docket_number']\n",
    "                            ,'term':case['term']\n",
    "                            ,'case_name':case['name']\n",
    "                            ,'speaker':speaker\n",
    "                            ,'role': role\n",
    "                            ,'identifier': identifier\n",
    "                            ,'voting_result': voting_result\n",
    "                            ,'text':text_block['text']\n",
    "                            ,'start':text_block['start']\n",
    "                            ,'stop':text_block['stop']\n",
    "                                }\n",
    "                        scotus.insert_one(entry) "
   ]
  }
 ],
 "metadata": {
  "kernelspec": {
   "display_name": "Python 3",
   "language": "python",
   "name": "python3"
  },
  "language_info": {
   "codemirror_mode": {
    "name": "ipython",
    "version": 3
   },
   "file_extension": ".py",
   "mimetype": "text/x-python",
   "name": "python",
   "nbconvert_exporter": "python",
   "pygments_lexer": "ipython3",
   "version": "3.6.4"
  }
 },
 "nbformat": 4,
 "nbformat_minor": 2
}
